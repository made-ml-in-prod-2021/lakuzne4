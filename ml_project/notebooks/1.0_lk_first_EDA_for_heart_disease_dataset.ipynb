{
 "cells": [
  {
   "cell_type": "code",
   "execution_count": 1,
   "metadata": {
    "ExecuteTime": {
     "end_time": "2021-05-16T19:38:22.563452Z",
     "start_time": "2021-05-16T19:38:22.560460Z"
    }
   },
   "outputs": [],
   "source": [
    "from platform import python_version"
   ]
  },
  {
   "cell_type": "code",
   "execution_count": 2,
   "metadata": {
    "ExecuteTime": {
     "end_time": "2021-05-16T19:38:22.849051Z",
     "start_time": "2021-05-16T19:38:22.843032Z"
    }
   },
   "outputs": [
    {
     "name": "stdout",
     "output_type": "stream",
     "text": [
      "3.7.6\n"
     ]
    }
   ],
   "source": [
    "print(python_version())"
   ]
  },
  {
   "cell_type": "code",
   "execution_count": 3,
   "metadata": {
    "ExecuteTime": {
     "end_time": "2021-05-16T19:38:24.747820Z",
     "start_time": "2021-05-16T19:38:23.205738Z"
    }
   },
   "outputs": [],
   "source": [
    "import pandas as pd\n",
    "import numpy as np\n",
    "import matplotlib.pyplot as plt\n",
    "import plotly\n",
    "import os"
   ]
  },
  {
   "cell_type": "code",
   "execution_count": 4,
   "metadata": {
    "ExecuteTime": {
     "end_time": "2021-05-16T19:38:24.766726Z",
     "start_time": "2021-05-16T19:38:24.748775Z"
    }
   },
   "outputs": [],
   "source": [
    "DATA_PATH = r'D:\\MADE_homeworks\\ML_prod\\homework1\\ml_project\\ml_project\\data\\raw'\n",
    "DATA_FILE = 'heart.csv'\n",
    "\n",
    "data = pd.read_csv(os.path.join(DATA_PATH, DATA_FILE))"
   ]
  },
  {
   "cell_type": "code",
   "execution_count": 5,
   "metadata": {
    "ExecuteTime": {
     "end_time": "2021-05-16T19:38:24.824112Z",
     "start_time": "2021-05-16T19:38:24.768728Z"
    }
   },
   "outputs": [
    {
     "data": {
      "text/html": [
       "<div>\n",
       "<style scoped>\n",
       "    .dataframe tbody tr th:only-of-type {\n",
       "        vertical-align: middle;\n",
       "    }\n",
       "\n",
       "    .dataframe tbody tr th {\n",
       "        vertical-align: top;\n",
       "    }\n",
       "\n",
       "    .dataframe thead th {\n",
       "        text-align: right;\n",
       "    }\n",
       "</style>\n",
       "<table border=\"1\" class=\"dataframe\">\n",
       "  <thead>\n",
       "    <tr style=\"text-align: right;\">\n",
       "      <th></th>\n",
       "      <th>age</th>\n",
       "      <th>sex</th>\n",
       "      <th>cp</th>\n",
       "      <th>trestbps</th>\n",
       "      <th>chol</th>\n",
       "      <th>fbs</th>\n",
       "      <th>restecg</th>\n",
       "      <th>thalach</th>\n",
       "      <th>exang</th>\n",
       "      <th>oldpeak</th>\n",
       "      <th>slope</th>\n",
       "      <th>ca</th>\n",
       "      <th>thal</th>\n",
       "      <th>target</th>\n",
       "    </tr>\n",
       "  </thead>\n",
       "  <tbody>\n",
       "    <tr>\n",
       "      <th>count</th>\n",
       "      <td>303.000</td>\n",
       "      <td>303.000</td>\n",
       "      <td>303.000</td>\n",
       "      <td>303.000</td>\n",
       "      <td>303.000</td>\n",
       "      <td>303.000</td>\n",
       "      <td>303.000</td>\n",
       "      <td>303.000</td>\n",
       "      <td>303.000</td>\n",
       "      <td>303.000</td>\n",
       "      <td>303.000</td>\n",
       "      <td>303.000</td>\n",
       "      <td>303.000</td>\n",
       "      <td>303.000</td>\n",
       "    </tr>\n",
       "    <tr>\n",
       "      <th>mean</th>\n",
       "      <td>54.366</td>\n",
       "      <td>0.683</td>\n",
       "      <td>0.967</td>\n",
       "      <td>131.624</td>\n",
       "      <td>246.264</td>\n",
       "      <td>0.149</td>\n",
       "      <td>0.528</td>\n",
       "      <td>149.647</td>\n",
       "      <td>0.327</td>\n",
       "      <td>1.040</td>\n",
       "      <td>1.399</td>\n",
       "      <td>0.729</td>\n",
       "      <td>2.314</td>\n",
       "      <td>0.545</td>\n",
       "    </tr>\n",
       "    <tr>\n",
       "      <th>std</th>\n",
       "      <td>9.082</td>\n",
       "      <td>0.466</td>\n",
       "      <td>1.032</td>\n",
       "      <td>17.538</td>\n",
       "      <td>51.831</td>\n",
       "      <td>0.356</td>\n",
       "      <td>0.526</td>\n",
       "      <td>22.905</td>\n",
       "      <td>0.470</td>\n",
       "      <td>1.161</td>\n",
       "      <td>0.616</td>\n",
       "      <td>1.023</td>\n",
       "      <td>0.612</td>\n",
       "      <td>0.499</td>\n",
       "    </tr>\n",
       "    <tr>\n",
       "      <th>min</th>\n",
       "      <td>29.000</td>\n",
       "      <td>0.000</td>\n",
       "      <td>0.000</td>\n",
       "      <td>94.000</td>\n",
       "      <td>126.000</td>\n",
       "      <td>0.000</td>\n",
       "      <td>0.000</td>\n",
       "      <td>71.000</td>\n",
       "      <td>0.000</td>\n",
       "      <td>0.000</td>\n",
       "      <td>0.000</td>\n",
       "      <td>0.000</td>\n",
       "      <td>0.000</td>\n",
       "      <td>0.000</td>\n",
       "    </tr>\n",
       "    <tr>\n",
       "      <th>1%</th>\n",
       "      <td>35.000</td>\n",
       "      <td>0.000</td>\n",
       "      <td>0.000</td>\n",
       "      <td>100.000</td>\n",
       "      <td>149.000</td>\n",
       "      <td>0.000</td>\n",
       "      <td>0.000</td>\n",
       "      <td>95.020</td>\n",
       "      <td>0.000</td>\n",
       "      <td>0.000</td>\n",
       "      <td>0.000</td>\n",
       "      <td>0.000</td>\n",
       "      <td>1.000</td>\n",
       "      <td>0.000</td>\n",
       "    </tr>\n",
       "    <tr>\n",
       "      <th>5%</th>\n",
       "      <td>39.100</td>\n",
       "      <td>0.000</td>\n",
       "      <td>0.000</td>\n",
       "      <td>108.000</td>\n",
       "      <td>175.000</td>\n",
       "      <td>0.000</td>\n",
       "      <td>0.000</td>\n",
       "      <td>108.100</td>\n",
       "      <td>0.000</td>\n",
       "      <td>0.000</td>\n",
       "      <td>0.000</td>\n",
       "      <td>0.000</td>\n",
       "      <td>1.000</td>\n",
       "      <td>0.000</td>\n",
       "    </tr>\n",
       "    <tr>\n",
       "      <th>25%</th>\n",
       "      <td>47.500</td>\n",
       "      <td>0.000</td>\n",
       "      <td>0.000</td>\n",
       "      <td>120.000</td>\n",
       "      <td>211.000</td>\n",
       "      <td>0.000</td>\n",
       "      <td>0.000</td>\n",
       "      <td>133.500</td>\n",
       "      <td>0.000</td>\n",
       "      <td>0.000</td>\n",
       "      <td>1.000</td>\n",
       "      <td>0.000</td>\n",
       "      <td>2.000</td>\n",
       "      <td>0.000</td>\n",
       "    </tr>\n",
       "    <tr>\n",
       "      <th>50%</th>\n",
       "      <td>55.000</td>\n",
       "      <td>1.000</td>\n",
       "      <td>1.000</td>\n",
       "      <td>130.000</td>\n",
       "      <td>240.000</td>\n",
       "      <td>0.000</td>\n",
       "      <td>1.000</td>\n",
       "      <td>153.000</td>\n",
       "      <td>0.000</td>\n",
       "      <td>0.800</td>\n",
       "      <td>1.000</td>\n",
       "      <td>0.000</td>\n",
       "      <td>2.000</td>\n",
       "      <td>1.000</td>\n",
       "    </tr>\n",
       "    <tr>\n",
       "      <th>75%</th>\n",
       "      <td>61.000</td>\n",
       "      <td>1.000</td>\n",
       "      <td>2.000</td>\n",
       "      <td>140.000</td>\n",
       "      <td>274.500</td>\n",
       "      <td>0.000</td>\n",
       "      <td>1.000</td>\n",
       "      <td>166.000</td>\n",
       "      <td>1.000</td>\n",
       "      <td>1.600</td>\n",
       "      <td>2.000</td>\n",
       "      <td>1.000</td>\n",
       "      <td>3.000</td>\n",
       "      <td>1.000</td>\n",
       "    </tr>\n",
       "    <tr>\n",
       "      <th>95%</th>\n",
       "      <td>68.000</td>\n",
       "      <td>1.000</td>\n",
       "      <td>3.000</td>\n",
       "      <td>160.000</td>\n",
       "      <td>326.900</td>\n",
       "      <td>1.000</td>\n",
       "      <td>1.000</td>\n",
       "      <td>181.900</td>\n",
       "      <td>1.000</td>\n",
       "      <td>3.400</td>\n",
       "      <td>2.000</td>\n",
       "      <td>3.000</td>\n",
       "      <td>3.000</td>\n",
       "      <td>1.000</td>\n",
       "    </tr>\n",
       "    <tr>\n",
       "      <th>99%</th>\n",
       "      <td>71.000</td>\n",
       "      <td>1.000</td>\n",
       "      <td>3.000</td>\n",
       "      <td>180.000</td>\n",
       "      <td>406.740</td>\n",
       "      <td>1.000</td>\n",
       "      <td>1.980</td>\n",
       "      <td>191.960</td>\n",
       "      <td>1.000</td>\n",
       "      <td>4.200</td>\n",
       "      <td>2.000</td>\n",
       "      <td>4.000</td>\n",
       "      <td>3.000</td>\n",
       "      <td>1.000</td>\n",
       "    </tr>\n",
       "    <tr>\n",
       "      <th>max</th>\n",
       "      <td>77.000</td>\n",
       "      <td>1.000</td>\n",
       "      <td>3.000</td>\n",
       "      <td>200.000</td>\n",
       "      <td>564.000</td>\n",
       "      <td>1.000</td>\n",
       "      <td>2.000</td>\n",
       "      <td>202.000</td>\n",
       "      <td>1.000</td>\n",
       "      <td>6.200</td>\n",
       "      <td>2.000</td>\n",
       "      <td>4.000</td>\n",
       "      <td>3.000</td>\n",
       "      <td>1.000</td>\n",
       "    </tr>\n",
       "  </tbody>\n",
       "</table>\n",
       "</div>"
      ],
      "text/plain": [
       "           age      sex       cp  trestbps     chol      fbs  restecg  \\\n",
       "count  303.000  303.000  303.000   303.000  303.000  303.000  303.000   \n",
       "mean    54.366    0.683    0.967   131.624  246.264    0.149    0.528   \n",
       "std      9.082    0.466    1.032    17.538   51.831    0.356    0.526   \n",
       "min     29.000    0.000    0.000    94.000  126.000    0.000    0.000   \n",
       "1%      35.000    0.000    0.000   100.000  149.000    0.000    0.000   \n",
       "5%      39.100    0.000    0.000   108.000  175.000    0.000    0.000   \n",
       "25%     47.500    0.000    0.000   120.000  211.000    0.000    0.000   \n",
       "50%     55.000    1.000    1.000   130.000  240.000    0.000    1.000   \n",
       "75%     61.000    1.000    2.000   140.000  274.500    0.000    1.000   \n",
       "95%     68.000    1.000    3.000   160.000  326.900    1.000    1.000   \n",
       "99%     71.000    1.000    3.000   180.000  406.740    1.000    1.980   \n",
       "max     77.000    1.000    3.000   200.000  564.000    1.000    2.000   \n",
       "\n",
       "       thalach    exang  oldpeak    slope       ca     thal   target  \n",
       "count  303.000  303.000  303.000  303.000  303.000  303.000  303.000  \n",
       "mean   149.647    0.327    1.040    1.399    0.729    2.314    0.545  \n",
       "std     22.905    0.470    1.161    0.616    1.023    0.612    0.499  \n",
       "min     71.000    0.000    0.000    0.000    0.000    0.000    0.000  \n",
       "1%      95.020    0.000    0.000    0.000    0.000    1.000    0.000  \n",
       "5%     108.100    0.000    0.000    0.000    0.000    1.000    0.000  \n",
       "25%    133.500    0.000    0.000    1.000    0.000    2.000    0.000  \n",
       "50%    153.000    0.000    0.800    1.000    0.000    2.000    1.000  \n",
       "75%    166.000    1.000    1.600    2.000    1.000    3.000    1.000  \n",
       "95%    181.900    1.000    3.400    2.000    3.000    3.000    1.000  \n",
       "99%    191.960    1.000    4.200    2.000    4.000    3.000    1.000  \n",
       "max    202.000    1.000    6.200    2.000    4.000    3.000    1.000  "
      ]
     },
     "execution_count": 5,
     "metadata": {},
     "output_type": "execute_result"
    }
   ],
   "source": [
    "data.describe(percentiles=[.01, .05, .25, .5, .75, .95, .99]).round(3)"
   ]
  },
  {
   "cell_type": "code",
   "execution_count": 6,
   "metadata": {
    "ExecuteTime": {
     "end_time": "2021-05-16T19:38:25.468555Z",
     "start_time": "2021-05-16T19:38:24.825108Z"
    }
   },
   "outputs": [
    {
     "data": {
      "image/png": "[encoded data removed]",
      "text/plain": [
       "<Figure size 1152x432 with 1 Axes>"
      ]
     },
     "metadata": {
      "needs_background": "light"
     },
     "output_type": "display_data"
    }
   ],
   "source": [
    "# get cardinality of all features\n",
    "plt.figure(figsize=(16, 6))\n",
    "data.nunique().sort_values().plot(kind='barh');\n",
    "plt.title(\"Cardinality numbers for every features\")\n",
    "plt.xticks(np.arange(0, 160, 2))\n",
    "plt.grid(True)\n",
    "plt.show()"
   ]
  },
  {
   "cell_type": "code",
   "execution_count": 7,
   "metadata": {
    "ExecuteTime": {
     "end_time": "2021-05-16T19:38:25.646298Z",
     "start_time": "2021-05-16T19:38:25.637312Z"
    }
   },
   "outputs": [],
   "source": [
    "features = [i for i in data.columns if i != 'target']\n",
    "low_cardinality_features = data.nunique().loc[data.nunique() < 20].index.tolist()\n",
    "high_cardinality_features = [i for i in data.columns if i not in low_cardinality_features and i != 'target']"
   ]
  },
  {
   "cell_type": "code",
   "execution_count": 9,
   "metadata": {
    "ExecuteTime": {
     "end_time": "2021-05-16T19:39:02.723087Z",
     "start_time": "2021-05-16T19:39:02.719123Z"
    }
   },
   "outputs": [
    {
     "name": "stdout",
     "output_type": "stream",
     "text": [
      "['sex', 'cp', 'fbs', 'restecg', 'exang', 'slope', 'ca', 'thal', 'target']\n"
     ]
    }
   ],
   "source": [
    "print(low_cardinality_features)"
   ]
  },
  {
   "cell_type": "code",
   "execution_count": 10,
   "metadata": {
    "ExecuteTime": {
     "end_time": "2021-05-16T19:39:07.964744Z",
     "start_time": "2021-05-16T19:39:07.961754Z"
    }
   },
   "outputs": [
    {
     "name": "stdout",
     "output_type": "stream",
     "text": [
      "['age', 'trestbps', 'chol', 'thalach', 'oldpeak']\n"
     ]
    }
   ],
   "source": [
    "print(high_cardinality_features)"
   ]
  },
  {
   "cell_type": "markdown",
   "metadata": {},
   "source": [
    "# Let's show difference between target=0 and target=1 by most features"
   ]
  },
  {
   "cell_type": "code",
   "execution_count": 8,
   "metadata": {
    "ExecuteTime": {
     "end_time": "2021-05-16T19:38:27.537728Z",
     "start_time": "2021-05-16T19:38:27.002471Z"
    },
    "scrolled": false
   },
   "outputs": [
    {
     "data": {
      "image/png": "[encoded data removed]",
      "text/plain": [
       "<Figure size 1152x576 with 5 Axes>"
      ]
     },
     "metadata": {
      "needs_background": "light"
     },
     "output_type": "display_data"
    }
   ],
   "source": [
    "# violin plots for all \"continuous\" variable\n",
    "ncols = 5\n",
    "nrows = max(len(high_cardinality_features) // ncols, 1)\n",
    "\n",
    "\n",
    "fig, ax = plt.subplots(ncols=ncols, \n",
    "                      nrows=nrows, figsize=(16,8))\n",
    "\n",
    "\n",
    "for feature_num in range(len(high_cardinality_features)):\n",
    "\n",
    "    if nrows > 1:\n",
    "        ax_num_slice = (feature_num // ncols, feature_num % ncols)\n",
    "    else:\n",
    "        ax_num_slice = feature_num % ncols\n",
    "    \n",
    "    \n",
    "    to_plot = data.loc[data.target == 0][high_cardinality_features[feature_num]].values\n",
    "    violin_plot = ax.__getitem__(ax_num_slice).violinplot(to_plot);\n",
    "    violin_plot['bodies'][0].set_facecolor('green')\n",
    "    \n",
    "    to_plot = data.loc[data.target == 1][high_cardinality_features[feature_num]].values\n",
    "    violin_plot = ax.__getitem__(ax_num_slice).violinplot(to_plot);\n",
    "    violin_plot['bodies'][0].set_facecolor('red')\n",
    "    \n",
    "    # plt.legend()\n",
    "    ax.__getitem__(ax_num_slice).set_title(high_cardinality_features[feature_num])\n",
    "    "
   ]
  }
 ],
 "metadata": {
  "hide_input": false,
  "kernelspec": {
   "display_name": "Python 3",
   "language": "python",
   "name": "python3"
  },
  "language_info": {
   "codemirror_mode": {
    "name": "ipython",
    "version": 3
   },
   "file_extension": ".py",
   "mimetype": "text/x-python",
   "name": "python",
   "nbconvert_exporter": "python",
   "pygments_lexer": "ipython3",
   "version": "3.7.6"
  },
  "toc": {
   "base_numbering": 1,
   "nav_menu": {},
   "number_sections": true,
   "sideBar": true,
   "skip_h1_title": false,
   "title_cell": "Table of Contents",
   "title_sidebar": "Contents",
   "toc_cell": false,
   "toc_position": {},
   "toc_section_display": true,
   "toc_window_display": false
  }
 },
 "nbformat": 4,
 "nbformat_minor": 5
}
